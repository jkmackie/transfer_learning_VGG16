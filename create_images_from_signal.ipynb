{
 "cells": [
  {
   "cell_type": "markdown",
   "id": "dd634595",
   "metadata": {},
   "source": [
    "## Create images from signals.joblib"
   ]
  },
  {
   "cell_type": "code",
   "execution_count": 1,
   "id": "fee20938",
   "metadata": {},
   "outputs": [],
   "source": [
    "import matplotlib.pyplot as plt\n",
    "import pandas as pd\n",
    "import numpy as np\n",
    "import joblib\n",
    "import time\n",
    "import os\n",
    "import random"
   ]
  },
  {
   "cell_type": "markdown",
   "id": "c1418e84",
   "metadata": {},
   "source": [
    "### Helper code"
   ]
  },
  {
   "cell_type": "code",
   "execution_count": 2,
   "id": "72f0a6a8",
   "metadata": {},
   "outputs": [],
   "source": [
    "from dataclasses import dataclass, field\n",
    "import numpy as np\n",
    "#from stingray.utils import fftshift, fft2, ifftshift, fft\n",
    "from scipy.fft import fftshift, fft2, ifftshift, fft\n",
    "from scipy.linalg import toeplitz\n",
    "import matplotlib.pyplot as plt\n",
    "\n",
    "@dataclass(repr=False)\n",
    "class Bispectrum2D:\n",
    "    '''\n",
    "    Make Bispectrum dataclass from 1D signal with frequency in Hertz.\n",
    "    \n",
    "    Parameters:\n",
    "    -----------\n",
    "        signal: The 1-Dimensional signal in (n,) numpy.ndarray\n",
    "        freqsample:  The sample frequency in Hertz.  \n",
    "        window: 'None', 'hanning', 'triangular'\n",
    "    \n",
    "    Author: jkmackie\n",
    "    \n",
    "    References\n",
    "    ----------\n",
    "    Matteo Bachetti, et al., stingray v1.0 code, DOI: https://zenodo.org/record/6394742, 2022.\n",
    "    \n",
    "    '''    \n",
    "    signal: np.ndarray\n",
    "    freqsample: float\n",
    "    window_name: str\n",
    "    dt: float = field(init=False)\n",
    "    n: int = field(init=False)  #number of data points in signal\n",
    "    maxlag: int = field(init=False)\n",
    "    lagindex: np.ndarray = field(init=False)\n",
    "    cum3_dim: int = field(init=False)\n",
    "            \n",
    "    def __post_init__(self):\n",
    "        self.dt = 1 / self.freqsample        \n",
    "        self.n = self.signal.shape[0]\n",
    "        self.maxlag = int(self.n/2)\n",
    "        self.lagindex = np.arange(-self.maxlag, self.maxlag + 1)\n",
    "        self.cum3_dim = 2 * self.maxlag + 1\n",
    "        self._calc_bispectrum()\n",
    "        \n",
    "    def _calc_bispectrum(self):\n",
    "        self._cumulant3()\n",
    "        self._window()\n",
    "        self._bispectrum()\n",
    "    \n",
    "    def _cumulant3(self):\n",
    "        '''Biased cumulant estimate.'''\n",
    "        self.cum3 = np.zeros((self.cum3_dim, self.cum3_dim))  #include zeros matrix to reset calc \n",
    "        ind = np.arange((self.n - self.maxlag)-1, self.n) #consecutive idx from (n-maxlag-1) to n\n",
    "        ind_t = np.arange(self.maxlag, self.n)\n",
    "        zero_maxlag = np.zeros((1, self.maxlag))\n",
    "        zero_maxlag_t = zero_maxlag.T\n",
    "        sig = np.reshape(self.signal, (1,len(self.signal)))  #Reshape original self.sig\n",
    "        sig = sig - np.mean(sig)                       #sig is 1xn row vector of counts.\n",
    "        rev_sig = np.array([sig[0][::-1]])\n",
    "        col = np.concatenate((sig.T[ind], zero_maxlag_t), axis=0)\n",
    "        row = np.concatenate((rev_sig[0][ind_t], zero_maxlag[0]), axis=0)\n",
    "        toep = toeplitz(col, row)\n",
    "        rev_sig_repeat = np.repeat(rev_sig, [2 * self.maxlag + 1], axis=0) #n repeats\n",
    "        #toep is n x (n-1).  It must be square to be a circulant.\n",
    "        self.cum3 = (self.cum3 + np.matmul(np.multiply(toep, rev_sig_repeat), toep.T)) / self.n        \n",
    "                \n",
    "    def _window(self):        \n",
    "        n = np.arange(self.cum3_dim)         #Total wind data points matches cum3_dim        \n",
    "        self.window = np.zeros(self.cum3_dim)  \n",
    "        if self.window_name == 'None':\n",
    "            return\n",
    "        if self.window_name == 'hanning':\n",
    "            hanning = 0.5 * (1 - np.cos(2 * np.pi * n / (self.cum3_dim-1)))\n",
    "            wind2D = np.tile(hanning,(self.cum3_dim,1))  #Make 2D wind by repeating rows N times.\n",
    "            self.window[:self.maxlag + 1] = hanning[self.maxlag:]        \n",
    "        if self.window_name == 'triangular':\n",
    "            N_div_2 = int((np.floor((self.cum3_dim - 1) / 2)))\n",
    "            triangular = 1 - np.abs((n - (N_div_2)) / self.cum3_dim)            \n",
    "            wind2D = np.tile(triangular,(self.cum3_dim,1))  #Make 2D wind by repeating rows N times.\n",
    "            self.window[:maxlag + 1] = triangular[self.maxlag:]    \n",
    "        self.window[self.maxlag:] = 0\n",
    "        # Put wind in toeplitz.  Each row of final wind is sliding hanning.\n",
    "        row = np.concatenate(([self.window[0]], np.zeros(2 * self.maxlag)))\n",
    "        toep_matrix = toeplitz(self.window, row)\n",
    "        toep_matrix += np.tril(toep_matrix, -1).transpose()\n",
    "        self.window = toep_matrix[..., ::-1] * wind2D * wind2D.T\n",
    "    \n",
    "    def _bispectrum(self):\n",
    "        if self.window_name == 'None':\n",
    "            self.bispec = fftshift(fft2(ifftshift(self.cum3)))\n",
    "        else:\n",
    "            self.bispec = fftshift(fft2(ifftshift(self.cum3*self.window)))         \n",
    "        self.freqvals = 0.5 * self.freqsample * self.lagindex / self.maxlag        \n",
    "        self.bispec_mag = np.abs(self.bispec)\n",
    "        self.bispec_phase = np.angle(self.bispec)\n",
    "        \n",
    "    def plot_cum3(self):\n",
    "        lags = self.lagindex * self.dt\n",
    "        fig, ax1 = plt.subplots(1,1,figsize=(6,6)) #gist has (11,11)\n",
    "        contplot1 = ax1.contourf(lags, lags, self.cum3, levels=100, cmap=plt.cm.Spectral_r)\n",
    "        ax1.set_title('Third Order Cumulant'); ax1.set_xlabel('lag 1 values'); ax1.set_ylabel('lags 2 values');\n",
    "    \n",
    "    def plot_bispec_magnitude(self):    \n",
    "        fig, ax1 = plt.subplots(1,1,figsize=(6,6))\n",
    "        contplot1 = ax1.contourf(self.freqvals, self.freqvals, self.bispec_mag, levels=100, cmap=plt.cm.Spectral_r)\n",
    "        ax1.set_title('Signal Bispectrum Magnitude'); ax1.set_xlabel('freq 1 Hz'); ax1.set_ylabel('freq 2 Hz');\n",
    "        #plt.colorbar(contplot1)\n",
    "\n",
    "#bs2D = Bispectrum2D(signal=y, freqsample=16_000, window_name='hanning')"
   ]
  },
  {
   "cell_type": "code",
   "execution_count": 3,
   "id": "e4259562",
   "metadata": {},
   "outputs": [],
   "source": [
    "def save_bispec_im_to_temp():\n",
    "    # Save bispectrum images\n",
    "\n",
    "    #Params\n",
    "    colnames = ['dc1','nc1']\n",
    "    segment_points = 2**12-1\n",
    "    start_indices = range(0, 800_000 - (segment_points) + 1, segment_points)\n",
    "    #start_indices = range(0, 9000, segment_points)  #create only six images\n",
    "\n",
    "    for colname in colnames:\n",
    "        for start_index in start_indices:\n",
    "            end_index = start_index + segment_points\n",
    "            y = df[colname].iloc[start_index : end_index].copy().values\n",
    "            bs2D = Bispectrum2D(signal=y, freqsample=16_000, window_name='hanning')\n",
    "\n",
    "            fig, ax1 = plt.subplots(1,1,figsize=(11,11))\n",
    "            ax1.axis('off')\n",
    "            contplot = ax1.contourf(bs2D.freqvals, bs2D.freqvals, bs2D.bispec_mag, levels=100, cmap=plt.cm.Spectral_r)\n",
    "            plt.savefig(f'./temp/{colname}_hanning_{start_index}-{end_index}.png')    \n",
    "            print('file saved:', f'{colname}_hanning_{start_index}-{end_index}.png', '| min elapsed:', round(((time.time()-start)/60),2))\n",
    "            plt.close()\n",
    "            #plt.show()"
   ]
  },
  {
   "cell_type": "code",
   "execution_count": 4,
   "id": "fa847a8c",
   "metadata": {},
   "outputs": [],
   "source": [
    "def crop_imag(imageFilePath: str, shakerange=20, shake_on=None):\n",
    "    '''Crop 1100x1100 images to 224X224.  Optionally shake from center-crop\n",
    "    location (438,438,662,662).  Return 224X224 image.'''\n",
    "    from PIL import Image\n",
    "    im = Image.open(imageFilePath)\n",
    "    rix = random.randint(-shakerange, shakerange) #get random int for x1, x2\n",
    "    riy = random.randint(-shakerange, shakerange) #get random int for y1, y2\n",
    "    if shake_on == True:\n",
    "        shaken_centercrop = (438+rix, 438+riy, 662+rix, 662+riy) \n",
    "        imCropped = im.crop(shaken_centercrop) #im.crop(x1, y1, x2, y2) - (x1,y1) top-left coord; (x2,y2) bottom-right coord\n",
    "    else:\n",
    "        centercrop = (438, 438, 662, 662)\n",
    "        imCropped = im.crop(centercrop)    \n",
    "    return imCropped\n",
    "\n",
    "def preprocess_3d_image(imPath: str):\n",
    "    '''Preprocess PIL format image for VGG16.'''\n",
    "    from tensorflow.keras.preprocessing import image\n",
    "    from tensorflow.keras.applications.vgg16 import preprocess_input    \n",
    "    img = image.load_img(imPath)         #load image into PIL format\n",
    "    arr = image.img_to_array(img)        #convert to np.array\n",
    "    arr = preprocess_input(arr)          #covert to BGR and zero-center color channels for VGG16\n",
    "    return image.array_to_img(arr)       #return processed img"
   ]
  },
  {
   "cell_type": "code",
   "execution_count": 5,
   "id": "65c1eda1",
   "metadata": {},
   "outputs": [],
   "source": [
    "def preprocess_and_save(image_folder, save_folder):\n",
    "    '''Crop images to 224X224.  Do VGG16-specific preprocessing.\n",
    "    Save processed images to save_folder.'''\n",
    "    # Reference:  https://keras.io/api/applications/#usage-examples-for-image-classification-models\n",
    "    for im_name in os.listdir(img_fold):\n",
    "        fp = img_fold + im_name\n",
    "        im_cropped=crop_imag(imageFilePath=fp, shakerange=10, shake_on=True)\n",
    "        im_cropped.save(img_fold+im_name)         #Saving after crop and before preprocessing may be required!\n",
    "        im_procd = preprocess_3d_image(imPath=fp)\n",
    "        #display(im_procd)\n",
    "        im_procd.save(save_fold+im_name)"
   ]
  },
  {
   "cell_type": "markdown",
   "id": "6d08ab08",
   "metadata": {},
   "source": [
    "### Load data"
   ]
  },
  {
   "cell_type": "code",
   "execution_count": 6,
   "id": "c50179cb",
   "metadata": {},
   "outputs": [
    {
     "name": "stdout",
     "output_type": "stream",
     "text": [
      "number of nulls in df: 0\n"
     ]
    },
    {
     "data": {
      "text/html": [
       "<div>\n",
       "<style scoped>\n",
       "    .dataframe tbody tr th:only-of-type {\n",
       "        vertical-align: middle;\n",
       "    }\n",
       "\n",
       "    .dataframe tbody tr th {\n",
       "        vertical-align: top;\n",
       "    }\n",
       "\n",
       "    .dataframe thead th {\n",
       "        text-align: right;\n",
       "    }\n",
       "</style>\n",
       "<table border=\"1\" class=\"dataframe\">\n",
       "  <thead>\n",
       "    <tr style=\"text-align: right;\">\n",
       "      <th></th>\n",
       "      <th>nc1</th>\n",
       "      <th>lc1</th>\n",
       "      <th>dc1</th>\n",
       "    </tr>\n",
       "  </thead>\n",
       "  <tbody>\n",
       "    <tr>\n",
       "      <th>count</th>\n",
       "      <td>800001.000</td>\n",
       "      <td>800001.000</td>\n",
       "      <td>800001.000</td>\n",
       "    </tr>\n",
       "    <tr>\n",
       "      <th>mean</th>\n",
       "      <td>0.000</td>\n",
       "      <td>-0.000</td>\n",
       "      <td>-0.000</td>\n",
       "    </tr>\n",
       "    <tr>\n",
       "      <th>std</th>\n",
       "      <td>0.611</td>\n",
       "      <td>0.646</td>\n",
       "      <td>0.776</td>\n",
       "    </tr>\n",
       "    <tr>\n",
       "      <th>min</th>\n",
       "      <td>-2.834</td>\n",
       "      <td>-5.926</td>\n",
       "      <td>-29.329</td>\n",
       "    </tr>\n",
       "    <tr>\n",
       "      <th>25%</th>\n",
       "      <td>-0.478</td>\n",
       "      <td>-0.467</td>\n",
       "      <td>-0.493</td>\n",
       "    </tr>\n",
       "    <tr>\n",
       "      <th>50%</th>\n",
       "      <td>0.070</td>\n",
       "      <td>0.063</td>\n",
       "      <td>0.030</td>\n",
       "    </tr>\n",
       "    <tr>\n",
       "      <th>75%</th>\n",
       "      <td>0.515</td>\n",
       "      <td>0.496</td>\n",
       "      <td>0.504</td>\n",
       "    </tr>\n",
       "    <tr>\n",
       "      <th>max</th>\n",
       "      <td>2.687</td>\n",
       "      <td>6.178</td>\n",
       "      <td>26.145</td>\n",
       "    </tr>\n",
       "  </tbody>\n",
       "</table>\n",
       "</div>"
      ],
      "text/plain": [
       "              nc1         lc1         dc1\n",
       "count  800001.000  800001.000  800001.000\n",
       "mean        0.000      -0.000      -0.000\n",
       "std         0.611       0.646       0.776\n",
       "min        -2.834      -5.926     -29.329\n",
       "25%        -0.478      -0.467      -0.493\n",
       "50%         0.070       0.063       0.030\n",
       "75%         0.515       0.496       0.504\n",
       "max         2.687       6.178      26.145"
      ]
     },
     "execution_count": 6,
     "metadata": {},
     "output_type": "execute_result"
    }
   ],
   "source": [
    "df = joblib.load('signals.joblib')\n",
    "print('number of nulls in df:', df.isnull().sum().sum())\n",
    "df.describe().round(3)"
   ]
  },
  {
   "cell_type": "code",
   "execution_count": 7,
   "id": "f06ccfbd",
   "metadata": {},
   "outputs": [
    {
     "data": {
      "text/html": [
       "<div>\n",
       "<style scoped>\n",
       "    .dataframe tbody tr th:only-of-type {\n",
       "        vertical-align: middle;\n",
       "    }\n",
       "\n",
       "    .dataframe tbody tr th {\n",
       "        vertical-align: top;\n",
       "    }\n",
       "\n",
       "    .dataframe thead th {\n",
       "        text-align: right;\n",
       "    }\n",
       "</style>\n",
       "<table border=\"1\" class=\"dataframe\">\n",
       "  <thead>\n",
       "    <tr style=\"text-align: right;\">\n",
       "      <th></th>\n",
       "      <th>nc1</th>\n",
       "      <th>lc1</th>\n",
       "      <th>dc1</th>\n",
       "    </tr>\n",
       "  </thead>\n",
       "  <tbody>\n",
       "    <tr>\n",
       "      <th>799998</th>\n",
       "      <td>0.653171</td>\n",
       "      <td>-0.637368</td>\n",
       "      <td>0.240326</td>\n",
       "    </tr>\n",
       "    <tr>\n",
       "      <th>799999</th>\n",
       "      <td>0.047256</td>\n",
       "      <td>0.204431</td>\n",
       "      <td>0.319485</td>\n",
       "    </tr>\n",
       "    <tr>\n",
       "      <th>800000</th>\n",
       "      <td>-0.682212</td>\n",
       "      <td>0.365421</td>\n",
       "      <td>0.589967</td>\n",
       "    </tr>\n",
       "  </tbody>\n",
       "</table>\n",
       "</div>"
      ],
      "text/plain": [
       "             nc1       lc1       dc1\n",
       "799998  0.653171 -0.637368  0.240326\n",
       "799999  0.047256  0.204431  0.319485\n",
       "800000 -0.682212  0.365421  0.589967"
      ]
     },
     "execution_count": 7,
     "metadata": {},
     "output_type": "execute_result"
    }
   ],
   "source": [
    "df.tail(3)"
   ]
  },
  {
   "cell_type": "code",
   "execution_count": 8,
   "id": "60122929",
   "metadata": {},
   "outputs": [],
   "source": [
    "start = time.time()"
   ]
  },
  {
   "cell_type": "markdown",
   "id": "64023a59",
   "metadata": {
    "scrolled": true
   },
   "source": [
    "### Save images to disk.  Preprocess images."
   ]
  },
  {
   "cell_type": "code",
   "execution_count": 9,
   "id": "92b87831",
   "metadata": {},
   "outputs": [
    {
     "name": "stdout",
     "output_type": "stream",
     "text": [
      "file saved: dc1_hanning_0-4095.png | min elapsed: 0.18\n",
      "file saved: dc1_hanning_4095-8190.png | min elapsed: 0.36\n",
      "file saved: dc1_hanning_8190-12285.png | min elapsed: 0.55\n",
      "file saved: nc1_hanning_0-4095.png | min elapsed: 0.72\n",
      "file saved: nc1_hanning_4095-8190.png | min elapsed: 0.89\n",
      "file saved: nc1_hanning_8190-12285.png | min elapsed: 1.06\n"
     ]
    }
   ],
   "source": [
    "#Create bispectrum images.  Save to ./temp folder.  Folder must exist.\n",
    "save_bispec_im_to_temp()"
   ]
  },
  {
   "cell_type": "code",
   "execution_count": 10,
   "id": "857faad1",
   "metadata": {},
   "outputs": [],
   "source": [
    "#Preprocess and save images.  Folders must exist.\n",
    "img_fold = './temp/'\n",
    "save_fold = './preproc/'\n",
    "\n",
    "preprocess_and_save(image_folder=img_fold, save_folder=save_fold)"
   ]
  },
  {
   "cell_type": "code",
   "execution_count": 11,
   "id": "f9e9fb4b",
   "metadata": {},
   "outputs": [
    {
     "name": "stdout",
     "output_type": "stream",
     "text": [
      "minutes elapsed: 1.08\n"
     ]
    }
   ],
   "source": [
    "end = time.time()\n",
    "print('minutes elapsed:', round((end-start)/60,2))"
   ]
  },
  {
   "cell_type": "code",
   "execution_count": null,
   "id": "5c0812e0",
   "metadata": {},
   "outputs": [],
   "source": []
  },
  {
   "cell_type": "code",
   "execution_count": null,
   "id": "11b3495e",
   "metadata": {},
   "outputs": [],
   "source": []
  }
 ],
 "metadata": {
  "kernelspec": {
   "display_name": "Python 3 (ipykernel)",
   "language": "python",
   "name": "python3"
  },
  "language_info": {
   "codemirror_mode": {
    "name": "ipython",
    "version": 3
   },
   "file_extension": ".py",
   "mimetype": "text/x-python",
   "name": "python",
   "nbconvert_exporter": "python",
   "pygments_lexer": "ipython3",
   "version": "3.9.13"
  }
 },
 "nbformat": 4,
 "nbformat_minor": 5
}
